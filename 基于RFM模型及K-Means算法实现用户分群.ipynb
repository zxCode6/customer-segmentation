{
 "cells": [
  {
   "cell_type": "raw",
   "id": "57661768",
   "metadata": {},
   "source": [
    "A公司收集了2010年12月1日至2011年12月9日所有的客户购买记录，假设现在的时间为2012年1月1日，我们的任务就是从该数据集中，挖掘出所有客户的价值，并根据客户的价值进行分组管理，采取不同的策略"
   ]
  },
  {
   "cell_type": "markdown",
   "id": "5d950359",
   "metadata": {},
   "source": [
    "## 数据集描述"
   ]
  },
  {
   "cell_type": "raw",
   "id": "a5146528",
   "metadata": {},
   "source": [
    "InvoiceNo     订单编号。如果以‘C’开头，表示订单被取消\n",
    "StockCode     商品编号\n",
    "Description    商品描述信息\n",
    "Quantity      购买商品数量\n",
    "InvoiceDate    订单日期\n",
    "UnitPrice     商品单价\n",
    "CustomerID     客户ID\n",
    "Country       客户所在的国家"
   ]
  },
  {
   "cell_type": "code",
   "execution_count": 1,
   "id": "807fe7d1",
   "metadata": {},
   "outputs": [],
   "source": [
    "import numpy as np\n",
    "import pandas as pd\n",
    "import matplotlib.pyplot as plt\n",
    "import seaborn as sns\n",
    "\n",
    "sns.set(style='darkgrid', font_scale=1.2)\n",
    "plt.rcParams['font.family'] = 'SimHei'\n",
    "plt.rcParams['axes.unicode_minus'] = False"
   ]
  },
  {
   "cell_type": "code",
   "execution_count": 2,
   "id": "029c64c8",
   "metadata": {},
   "outputs": [
    {
     "name": "stdout",
     "output_type": "stream",
     "text": [
      "(541909, 8)\n"
     ]
    },
    {
     "data": {
      "text/html": [
       "<div>\n",
       "<style scoped>\n",
       "    .dataframe tbody tr th:only-of-type {\n",
       "        vertical-align: middle;\n",
       "    }\n",
       "\n",
       "    .dataframe tbody tr th {\n",
       "        vertical-align: top;\n",
       "    }\n",
       "\n",
       "    .dataframe thead th {\n",
       "        text-align: right;\n",
       "    }\n",
       "</style>\n",
       "<table border=\"1\" class=\"dataframe\">\n",
       "  <thead>\n",
       "    <tr style=\"text-align: right;\">\n",
       "      <th></th>\n",
       "      <th>InvoiceNo</th>\n",
       "      <th>StockCode</th>\n",
       "      <th>Description</th>\n",
       "      <th>Quantity</th>\n",
       "      <th>InvoiceDate</th>\n",
       "      <th>UnitPrice</th>\n",
       "      <th>CustomerID</th>\n",
       "      <th>Country</th>\n",
       "    </tr>\n",
       "  </thead>\n",
       "  <tbody>\n",
       "    <tr>\n",
       "      <th>0</th>\n",
       "      <td>536365</td>\n",
       "      <td>85123A</td>\n",
       "      <td>WHITE HANGING HEART T-LIGHT HOLDER</td>\n",
       "      <td>6</td>\n",
       "      <td>2010-12-01 08:26:00</td>\n",
       "      <td>2.55</td>\n",
       "      <td>17850.0</td>\n",
       "      <td>United Kingdom</td>\n",
       "    </tr>\n",
       "    <tr>\n",
       "      <th>1</th>\n",
       "      <td>536365</td>\n",
       "      <td>71053</td>\n",
       "      <td>WHITE METAL LANTERN</td>\n",
       "      <td>6</td>\n",
       "      <td>2010-12-01 08:26:00</td>\n",
       "      <td>3.39</td>\n",
       "      <td>17850.0</td>\n",
       "      <td>United Kingdom</td>\n",
       "    </tr>\n",
       "    <tr>\n",
       "      <th>2</th>\n",
       "      <td>536365</td>\n",
       "      <td>84406B</td>\n",
       "      <td>CREAM CUPID HEARTS COAT HANGER</td>\n",
       "      <td>8</td>\n",
       "      <td>2010-12-01 08:26:00</td>\n",
       "      <td>2.75</td>\n",
       "      <td>17850.0</td>\n",
       "      <td>United Kingdom</td>\n",
       "    </tr>\n",
       "    <tr>\n",
       "      <th>3</th>\n",
       "      <td>536365</td>\n",
       "      <td>84029G</td>\n",
       "      <td>KNITTED UNION FLAG HOT WATER BOTTLE</td>\n",
       "      <td>6</td>\n",
       "      <td>2010-12-01 08:26:00</td>\n",
       "      <td>3.39</td>\n",
       "      <td>17850.0</td>\n",
       "      <td>United Kingdom</td>\n",
       "    </tr>\n",
       "    <tr>\n",
       "      <th>4</th>\n",
       "      <td>536365</td>\n",
       "      <td>84029E</td>\n",
       "      <td>RED WOOLLY HOTTIE WHITE HEART.</td>\n",
       "      <td>6</td>\n",
       "      <td>2010-12-01 08:26:00</td>\n",
       "      <td>3.39</td>\n",
       "      <td>17850.0</td>\n",
       "      <td>United Kingdom</td>\n",
       "    </tr>\n",
       "  </tbody>\n",
       "</table>\n",
       "</div>"
      ],
      "text/plain": [
       "  InvoiceNo StockCode                          Description  Quantity  \\\n",
       "0    536365    85123A   WHITE HANGING HEART T-LIGHT HOLDER         6   \n",
       "1    536365     71053                  WHITE METAL LANTERN         6   \n",
       "2    536365    84406B       CREAM CUPID HEARTS COAT HANGER         8   \n",
       "3    536365    84029G  KNITTED UNION FLAG HOT WATER BOTTLE         6   \n",
       "4    536365    84029E       RED WOOLLY HOTTIE WHITE HEART.         6   \n",
       "\n",
       "          InvoiceDate  UnitPrice  CustomerID         Country  \n",
       "0 2010-12-01 08:26:00       2.55     17850.0  United Kingdom  \n",
       "1 2010-12-01 08:26:00       3.39     17850.0  United Kingdom  \n",
       "2 2010-12-01 08:26:00       2.75     17850.0  United Kingdom  \n",
       "3 2010-12-01 08:26:00       3.39     17850.0  United Kingdom  \n",
       "4 2010-12-01 08:26:00       3.39     17850.0  United Kingdom  "
      ]
     },
     "execution_count": 2,
     "metadata": {},
     "output_type": "execute_result"
    }
   ],
   "source": [
    "data = pd.read_excel('Online_Retail.xlsx')\n",
    "print(data.shape)\n",
    "data.head()"
   ]
  },
  {
   "cell_type": "markdown",
   "id": "df934769",
   "metadata": {},
   "source": [
    "## 数据预处理"
   ]
  },
  {
   "cell_type": "markdown",
   "id": "f7351571",
   "metadata": {},
   "source": [
    "### 缺失值处理"
   ]
  },
  {
   "cell_type": "code",
   "execution_count": 3,
   "id": "59a41157",
   "metadata": {},
   "outputs": [
    {
     "name": "stdout",
     "output_type": "stream",
     "text": [
      "<class 'pandas.core.frame.DataFrame'>\n",
      "RangeIndex: 541909 entries, 0 to 541908\n",
      "Data columns (total 8 columns):\n",
      " #   Column       Non-Null Count   Dtype         \n",
      "---  ------       --------------   -----         \n",
      " 0   InvoiceNo    541909 non-null  object        \n",
      " 1   StockCode    541909 non-null  object        \n",
      " 2   Description  540455 non-null  object        \n",
      " 3   Quantity     541909 non-null  int64         \n",
      " 4   InvoiceDate  541909 non-null  datetime64[ns]\n",
      " 5   UnitPrice    541909 non-null  float64       \n",
      " 6   CustomerID   406829 non-null  float64       \n",
      " 7   Country      541909 non-null  object        \n",
      "dtypes: datetime64[ns](1), float64(2), int64(1), object(4)\n",
      "memory usage: 33.1+ MB\n"
     ]
    }
   ],
   "source": [
    "data.info()"
   ]
  },
  {
   "cell_type": "raw",
   "id": "8a969324",
   "metadata": {},
   "source": [
    "通过运行结果，我们发现如下信息：\n",
    "\n",
    "CustomerID： 存在大量缺失值，而缺失具体用户的订单，对我们来说是没有意义的，我们选择将其删除\n",
    "Description：存在少许的缺失值，该列对我们的分析没有影响，我们将其填充为‘无’即可\n",
    "InvoiceNo：  解析为object类型，说明订单编号不全由数值组成\n",
    "CustomerID： 解析为float64类型，需要后期转换"
   ]
  },
  {
   "cell_type": "code",
   "execution_count": 4,
   "id": "b2e62e35",
   "metadata": {},
   "outputs": [],
   "source": [
    "data['Description'].fillna('无',inplace=True)\n",
    "data.dropna(subset=['CustomerID'],inplace=True)"
   ]
  },
  {
   "cell_type": "code",
   "execution_count": 5,
   "id": "e9c85978",
   "metadata": {},
   "outputs": [
    {
     "data": {
      "text/plain": [
       "InvoiceNo      0\n",
       "StockCode      0\n",
       "Description    0\n",
       "Quantity       0\n",
       "InvoiceDate    0\n",
       "UnitPrice      0\n",
       "CustomerID     0\n",
       "Country        0\n",
       "dtype: int64"
      ]
     },
     "execution_count": 5,
     "metadata": {},
     "output_type": "execute_result"
    }
   ],
   "source": [
    "data.isnull().sum(axis=0)"
   ]
  },
  {
   "cell_type": "markdown",
   "id": "64a6c026",
   "metadata": {},
   "source": [
    "### 异常值处理"
   ]
  },
  {
   "cell_type": "raw",
   "id": "2698799f",
   "metadata": {},
   "source": [
    "在该数据集中，我们需要对如下变量检测异常值\n",
    "Quantity、UnitPrice"
   ]
  },
  {
   "cell_type": "code",
   "execution_count": 6,
   "id": "dc9fc971",
   "metadata": {},
   "outputs": [
    {
     "data": {
      "text/html": [
       "<div>\n",
       "<style scoped>\n",
       "    .dataframe tbody tr th:only-of-type {\n",
       "        vertical-align: middle;\n",
       "    }\n",
       "\n",
       "    .dataframe tbody tr th {\n",
       "        vertical-align: top;\n",
       "    }\n",
       "\n",
       "    .dataframe thead th {\n",
       "        text-align: right;\n",
       "    }\n",
       "</style>\n",
       "<table border=\"1\" class=\"dataframe\">\n",
       "  <thead>\n",
       "    <tr style=\"text-align: right;\">\n",
       "      <th></th>\n",
       "      <th>Quantity</th>\n",
       "      <th>UnitPrice</th>\n",
       "      <th>CustomerID</th>\n",
       "    </tr>\n",
       "  </thead>\n",
       "  <tbody>\n",
       "    <tr>\n",
       "      <th>count</th>\n",
       "      <td>406829.000000</td>\n",
       "      <td>406829.000000</td>\n",
       "      <td>406829.000000</td>\n",
       "    </tr>\n",
       "    <tr>\n",
       "      <th>mean</th>\n",
       "      <td>12.061303</td>\n",
       "      <td>3.460471</td>\n",
       "      <td>15287.690570</td>\n",
       "    </tr>\n",
       "    <tr>\n",
       "      <th>std</th>\n",
       "      <td>248.693370</td>\n",
       "      <td>69.315162</td>\n",
       "      <td>1713.600303</td>\n",
       "    </tr>\n",
       "    <tr>\n",
       "      <th>min</th>\n",
       "      <td>-80995.000000</td>\n",
       "      <td>0.000000</td>\n",
       "      <td>12346.000000</td>\n",
       "    </tr>\n",
       "    <tr>\n",
       "      <th>25%</th>\n",
       "      <td>2.000000</td>\n",
       "      <td>1.250000</td>\n",
       "      <td>13953.000000</td>\n",
       "    </tr>\n",
       "    <tr>\n",
       "      <th>50%</th>\n",
       "      <td>5.000000</td>\n",
       "      <td>1.950000</td>\n",
       "      <td>15152.000000</td>\n",
       "    </tr>\n",
       "    <tr>\n",
       "      <th>75%</th>\n",
       "      <td>12.000000</td>\n",
       "      <td>3.750000</td>\n",
       "      <td>16791.000000</td>\n",
       "    </tr>\n",
       "    <tr>\n",
       "      <th>max</th>\n",
       "      <td>80995.000000</td>\n",
       "      <td>38970.000000</td>\n",
       "      <td>18287.000000</td>\n",
       "    </tr>\n",
       "  </tbody>\n",
       "</table>\n",
       "</div>"
      ],
      "text/plain": [
       "            Quantity      UnitPrice     CustomerID\n",
       "count  406829.000000  406829.000000  406829.000000\n",
       "mean       12.061303       3.460471   15287.690570\n",
       "std       248.693370      69.315162    1713.600303\n",
       "min    -80995.000000       0.000000   12346.000000\n",
       "25%         2.000000       1.250000   13953.000000\n",
       "50%         5.000000       1.950000   15152.000000\n",
       "75%        12.000000       3.750000   16791.000000\n",
       "max     80995.000000   38970.000000   18287.000000"
      ]
     },
     "execution_count": 6,
     "metadata": {},
     "output_type": "execute_result"
    }
   ],
   "source": [
    "data.describe()"
   ]
  },
  {
   "cell_type": "markdown",
   "id": "19d84f32",
   "metadata": {},
   "source": [
    "#### 绘制数据分布"
   ]
  },
  {
   "cell_type": "code",
   "execution_count": 7,
   "id": "7fb3996b",
   "metadata": {},
   "outputs": [
    {
     "name": "stderr",
     "output_type": "stream",
     "text": [
      "F:\\anaconda\\lib\\site-packages\\seaborn\\distributions.py:2619: FutureWarning: `distplot` is a deprecated function and will be removed in a future version. Please adapt your code to use either `displot` (a figure-level function with similar flexibility) or `histplot` (an axes-level function for histograms).\n",
      "  warnings.warn(msg, FutureWarning)\n",
      "F:\\anaconda\\lib\\site-packages\\seaborn\\distributions.py:2619: FutureWarning: `distplot` is a deprecated function and will be removed in a future version. Please adapt your code to use either `displot` (a figure-level function with similar flexibility) or `histplot` (an axes-level function for histograms).\n",
      "  warnings.warn(msg, FutureWarning)\n"
     ]
    },
    {
     "data": {
      "text/plain": [
       "<AxesSubplot:xlabel='UnitPrice', ylabel='Density'>"
      ]
     },
     "execution_count": 7,
     "metadata": {},
     "output_type": "execute_result"
    },
    {
     "data": {
      "image/png": "[encoded data removed]",
      "text/plain": [
       "<Figure size 1080x360 with 2 Axes>"
      ]
     },
     "metadata": {},
     "output_type": "display_data"
    }
   ],
   "source": [
    "fig, ax = plt.subplots(1,2)\n",
    "fig.set_size_inches(15, 5)\n",
    "sns.distplot(data['Quantity'], ax = ax[0])\n",
    "sns.distplot(data['UnitPrice'], ax = ax[1])"
   ]
  },
  {
   "cell_type": "markdown",
   "id": "36bf9bf6",
   "metadata": {},
   "source": [
    "#### 绘制箱线图"
   ]
  },
  {
   "cell_type": "code",
   "execution_count": 8,
   "id": "06643015",
   "metadata": {},
   "outputs": [
    {
     "data": {
      "text/plain": [
       "<AxesSubplot:ylabel='UnitPrice'>"
      ]
     },
     "execution_count": 8,
     "metadata": {},
     "output_type": "execute_result"
    },
    {
     "data": {
      "image/png": "[encoded data removed]",
      "text/plain": [
       "<Figure size 1080x360 with 2 Axes>"
      ]
     },
     "metadata": {},
     "output_type": "display_data"
    }
   ],
   "source": [
    "fig, ax  = plt.subplots(1, 2)\n",
    "fig.set_size_inches(15, 5)\n",
    "sns.boxplot(y='Quantity', data = data, ax = ax[0])\n",
    "sns.boxplot(y='UnitPrice', data = data, ax=ax[1])"
   ]
  },
  {
   "cell_type": "markdown",
   "id": "5f375f85",
   "metadata": {},
   "source": [
    "#### 重复值处理"
   ]
  },
  {
   "cell_type": "code",
   "execution_count": 9,
   "id": "16efa02f",
   "metadata": {},
   "outputs": [
    {
     "data": {
      "text/plain": [
       "5225"
      ]
     },
     "execution_count": 9,
     "metadata": {},
     "output_type": "execute_result"
    }
   ],
   "source": [
    "data.duplicated().sum()"
   ]
  },
  {
   "cell_type": "code",
   "execution_count": 10,
   "id": "661c0a97",
   "metadata": {},
   "outputs": [
    {
     "data": {
      "text/html": [
       "<div>\n",
       "<style scoped>\n",
       "    .dataframe tbody tr th:only-of-type {\n",
       "        vertical-align: middle;\n",
       "    }\n",
       "\n",
       "    .dataframe tbody tr th {\n",
       "        vertical-align: top;\n",
       "    }\n",
       "\n",
       "    .dataframe thead th {\n",
       "        text-align: right;\n",
       "    }\n",
       "</style>\n",
       "<table border=\"1\" class=\"dataframe\">\n",
       "  <thead>\n",
       "    <tr style=\"text-align: right;\">\n",
       "      <th></th>\n",
       "      <th>InvoiceNo</th>\n",
       "      <th>StockCode</th>\n",
       "      <th>Description</th>\n",
       "      <th>Quantity</th>\n",
       "      <th>InvoiceDate</th>\n",
       "      <th>UnitPrice</th>\n",
       "      <th>CustomerID</th>\n",
       "      <th>Country</th>\n",
       "    </tr>\n",
       "  </thead>\n",
       "  <tbody>\n",
       "    <tr>\n",
       "      <th>494</th>\n",
       "      <td>536409</td>\n",
       "      <td>21866</td>\n",
       "      <td>UNION JACK FLAG LUGGAGE TAG</td>\n",
       "      <td>1</td>\n",
       "      <td>2010-12-01 11:45:00</td>\n",
       "      <td>1.25</td>\n",
       "      <td>17908.0</td>\n",
       "      <td>United Kingdom</td>\n",
       "    </tr>\n",
       "    <tr>\n",
       "      <th>517</th>\n",
       "      <td>536409</td>\n",
       "      <td>21866</td>\n",
       "      <td>UNION JACK FLAG LUGGAGE TAG</td>\n",
       "      <td>1</td>\n",
       "      <td>2010-12-01 11:45:00</td>\n",
       "      <td>1.25</td>\n",
       "      <td>17908.0</td>\n",
       "      <td>United Kingdom</td>\n",
       "    </tr>\n",
       "    <tr>\n",
       "      <th>485</th>\n",
       "      <td>536409</td>\n",
       "      <td>22111</td>\n",
       "      <td>SCOTTIE DOG HOT WATER BOTTLE</td>\n",
       "      <td>1</td>\n",
       "      <td>2010-12-01 11:45:00</td>\n",
       "      <td>4.95</td>\n",
       "      <td>17908.0</td>\n",
       "      <td>United Kingdom</td>\n",
       "    </tr>\n",
       "    <tr>\n",
       "      <th>539</th>\n",
       "      <td>536409</td>\n",
       "      <td>22111</td>\n",
       "      <td>SCOTTIE DOG HOT WATER BOTTLE</td>\n",
       "      <td>1</td>\n",
       "      <td>2010-12-01 11:45:00</td>\n",
       "      <td>4.95</td>\n",
       "      <td>17908.0</td>\n",
       "      <td>United Kingdom</td>\n",
       "    </tr>\n",
       "    <tr>\n",
       "      <th>489</th>\n",
       "      <td>536409</td>\n",
       "      <td>22866</td>\n",
       "      <td>HAND WARMER SCOTTY DOG DESIGN</td>\n",
       "      <td>1</td>\n",
       "      <td>2010-12-01 11:45:00</td>\n",
       "      <td>2.10</td>\n",
       "      <td>17908.0</td>\n",
       "      <td>United Kingdom</td>\n",
       "    </tr>\n",
       "  </tbody>\n",
       "</table>\n",
       "</div>"
      ],
      "text/plain": [
       "    InvoiceNo StockCode                    Description  Quantity  \\\n",
       "494    536409     21866    UNION JACK FLAG LUGGAGE TAG         1   \n",
       "517    536409     21866    UNION JACK FLAG LUGGAGE TAG         1   \n",
       "485    536409     22111   SCOTTIE DOG HOT WATER BOTTLE         1   \n",
       "539    536409     22111   SCOTTIE DOG HOT WATER BOTTLE         1   \n",
       "489    536409     22866  HAND WARMER SCOTTY DOG DESIGN         1   \n",
       "\n",
       "            InvoiceDate  UnitPrice  CustomerID         Country  \n",
       "494 2010-12-01 11:45:00       1.25     17908.0  United Kingdom  \n",
       "517 2010-12-01 11:45:00       1.25     17908.0  United Kingdom  \n",
       "485 2010-12-01 11:45:00       4.95     17908.0  United Kingdom  \n",
       "539 2010-12-01 11:45:00       4.95     17908.0  United Kingdom  \n",
       "489 2010-12-01 11:45:00       2.10     17908.0  United Kingdom  "
      ]
     },
     "execution_count": 10,
     "metadata": {},
     "output_type": "execute_result"
    }
   ],
   "source": [
    "data[data.duplicated(keep=False)].sort_values(by=['InvoiceNo','StockCode']).head()"
   ]
  },
  {
   "cell_type": "markdown",
   "id": "e1a67be4",
   "metadata": {},
   "source": [
    "## RFM模型"
   ]
  },
  {
   "cell_type": "markdown",
   "id": "b1c7f0e3",
   "metadata": {},
   "source": [
    "### 模型概念"
   ]
  },
  {
   "cell_type": "raw",
   "id": "4748e1d5",
   "metadata": {},
   "source": [
    "RFM模型是用来衡量客户价值的重要模型。正如其名，该模型包含三个指标来对客户价值进行分析：\n",
    "R（Recency）: 指用户最近一次消费距离的时间间隔。\n",
    "    客户对商家的记忆程度\n",
    "      活跃用户\n",
    "      沉睡用户\n",
    "      流失用户\n",
    "F（Frequency）: 消费评率，指用户在一定时间内的消费次数\n",
    "    客户的忠诚度：\n",
    "      新用户\n",
    "      老用户\n",
    "      忠诚用户\n",
    "M（Monetary）: 货币，指客户在一定时间内的消费金额\n",
    "    客户的消费能力\n",
    "    客户的贡献程度\n",
    "      低价值用户\n",
    "      中价值客户\n",
    "      高价值客户"
   ]
  },
  {
   "cell_type": "markdown",
   "id": "b93af7cb",
   "metadata": {},
   "source": [
    "## 模型作用"
   ]
  },
  {
   "cell_type": "raw",
   "id": "2ae7b5c4",
   "metadata": {},
   "source": [
    "通过RFM模型，我们就可以将用户实现等级划分，从而能够对不同类别的客户，采取不同的方案与策略。进而，企业就可以做好客户运营，来提升企业的利润。\n",
    "\n",
    "重要价值客户（高高高）：\n",
    "    长期联络，定期回访\n",
    "    一对一服务\n",
    "    生日、节日等问候，赠送礼品\n",
    "重要保持客户（低高高）：\n",
    "    赠送优惠券\n",
    "    发送打折信息\n",
    "重要发展客户（高低高）：\n",
    "    办理会员卡\n",
    "    赠送免费送货券\n",
    "    购买N次返红包\n",
    "重要挽留客户（低低高）\n",
    "    定期发送促销活动信息"
   ]
  },
  {
   "cell_type": "markdown",
   "id": "6f06f577",
   "metadata": {},
   "source": [
    "## 程序实现"
   ]
  },
  {
   "cell_type": "markdown",
   "id": "0859d85b",
   "metadata": {},
   "source": [
    "### 计算消费金额"
   ]
  },
  {
   "cell_type": "raw",
   "id": "f2650efb",
   "metadata": {},
   "source": [
    "现有数据中，没有直接的客户消费金额，我们需要自行计算"
   ]
  },
  {
   "cell_type": "code",
   "execution_count": 11,
   "id": "9d0ca4ca",
   "metadata": {},
   "outputs": [],
   "source": [
    "data['monetory'] = data['Quantity'] * data['UnitPrice']"
   ]
  },
  {
   "cell_type": "code",
   "execution_count": 12,
   "id": "16dc96ed",
   "metadata": {},
   "outputs": [],
   "source": [
    "# 转换为日期类型\n",
    "data['InvoiceDate'] = pd.to_datetime(data['InvoiceDate'])\n",
    "# 转换为整数类型\n",
    "data['CustomerID'] = data['CustomerID'].astype(np.int32)"
   ]
  },
  {
   "cell_type": "markdown",
   "id": "59a8eb90",
   "metadata": {},
   "source": [
    "### 构建R值"
   ]
  },
  {
   "cell_type": "code",
   "execution_count": 21,
   "id": "3364301e",
   "metadata": {},
   "outputs": [
    {
     "data": {
      "text/html": [
       "<div>\n",
       "<style scoped>\n",
       "    .dataframe tbody tr th:only-of-type {\n",
       "        vertical-align: middle;\n",
       "    }\n",
       "\n",
       "    .dataframe tbody tr th {\n",
       "        vertical-align: top;\n",
       "    }\n",
       "\n",
       "    .dataframe thead th {\n",
       "        text-align: right;\n",
       "    }\n",
       "</style>\n",
       "<table border=\"1\" class=\"dataframe\">\n",
       "  <thead>\n",
       "    <tr style=\"text-align: right;\">\n",
       "      <th></th>\n",
       "      <th>Recency</th>\n",
       "    </tr>\n",
       "    <tr>\n",
       "      <th>CustomerID</th>\n",
       "      <th></th>\n",
       "    </tr>\n",
       "  </thead>\n",
       "  <tbody>\n",
       "    <tr>\n",
       "      <th>12346</th>\n",
       "      <td>347</td>\n",
       "    </tr>\n",
       "    <tr>\n",
       "      <th>12347</th>\n",
       "      <td>24</td>\n",
       "    </tr>\n",
       "    <tr>\n",
       "      <th>12348</th>\n",
       "      <td>97</td>\n",
       "    </tr>\n",
       "    <tr>\n",
       "      <th>12349</th>\n",
       "      <td>40</td>\n",
       "    </tr>\n",
       "    <tr>\n",
       "      <th>12350</th>\n",
       "      <td>332</td>\n",
       "    </tr>\n",
       "    <tr>\n",
       "      <th>12352</th>\n",
       "      <td>58</td>\n",
       "    </tr>\n",
       "    <tr>\n",
       "      <th>12353</th>\n",
       "      <td>226</td>\n",
       "    </tr>\n",
       "    <tr>\n",
       "      <th>12354</th>\n",
       "      <td>254</td>\n",
       "    </tr>\n",
       "    <tr>\n",
       "      <th>12355</th>\n",
       "      <td>236</td>\n",
       "    </tr>\n",
       "    <tr>\n",
       "      <th>12356</th>\n",
       "      <td>44</td>\n",
       "    </tr>\n",
       "  </tbody>\n",
       "</table>\n",
       "</div>"
      ],
      "text/plain": [
       "            Recency\n",
       "CustomerID         \n",
       "12346           347\n",
       "12347            24\n",
       "12348            97\n",
       "12349            40\n",
       "12350           332\n",
       "12352            58\n",
       "12353           226\n",
       "12354           254\n",
       "12355           236\n",
       "12356            44"
      ]
     },
     "execution_count": 21,
     "metadata": {},
     "output_type": "execute_result"
    }
   ],
   "source": [
    "def build_R(group_data, current):\n",
    "    # 去掉退货订单\n",
    "    group_data['InvoiceNo'] = group_data['InvoiceNo'].astype(str)\n",
    "    t = group_data[group_data['InvoiceNo'].str.startswith('C')==False]\n",
    "    # 如果当前客户全是退货订单\n",
    "    if len(t) == 0:\n",
    "        # 将所有订单中最早的日期视为客户最后一次的购买日期\n",
    "        delta = current - data['InvoiceDate'].min()\n",
    "    else:\n",
    "        # 计算当前日期与最后一次购买日期的间隔\n",
    "        delta = current - t['InvoiceDate'].max()\n",
    "    # 返回天数\n",
    "    return delta.days\n",
    "\n",
    "rfm = pd.DataFrame()\n",
    "g = data.groupby('CustomerID')\n",
    "current = pd.to_datetime('2012-01-01 00:00:00')\n",
    "rfm['Recency'] = g.apply(build_R, current)\n",
    "rfm.head(10)"
   ]
  },
  {
   "cell_type": "markdown",
   "id": "8ce4a6a2",
   "metadata": {},
   "source": [
    "### 构建F值"
   ]
  },
  {
   "cell_type": "code",
   "execution_count": 23,
   "id": "6be59c36",
   "metadata": {},
   "outputs": [
    {
     "data": {
      "text/html": [
       "<div>\n",
       "<style scoped>\n",
       "    .dataframe tbody tr th:only-of-type {\n",
       "        vertical-align: middle;\n",
       "    }\n",
       "\n",
       "    .dataframe tbody tr th {\n",
       "        vertical-align: top;\n",
       "    }\n",
       "\n",
       "    .dataframe thead th {\n",
       "        text-align: right;\n",
       "    }\n",
       "</style>\n",
       "<table border=\"1\" class=\"dataframe\">\n",
       "  <thead>\n",
       "    <tr style=\"text-align: right;\">\n",
       "      <th></th>\n",
       "      <th>Recency</th>\n",
       "      <th>Frequency</th>\n",
       "    </tr>\n",
       "    <tr>\n",
       "      <th>CustomerID</th>\n",
       "      <th></th>\n",
       "      <th></th>\n",
       "    </tr>\n",
       "  </thead>\n",
       "  <tbody>\n",
       "    <tr>\n",
       "      <th>12346</th>\n",
       "      <td>347</td>\n",
       "      <td>0</td>\n",
       "    </tr>\n",
       "    <tr>\n",
       "      <th>12347</th>\n",
       "      <td>24</td>\n",
       "      <td>7</td>\n",
       "    </tr>\n",
       "    <tr>\n",
       "      <th>12348</th>\n",
       "      <td>97</td>\n",
       "      <td>4</td>\n",
       "    </tr>\n",
       "    <tr>\n",
       "      <th>12349</th>\n",
       "      <td>40</td>\n",
       "      <td>1</td>\n",
       "    </tr>\n",
       "    <tr>\n",
       "      <th>12350</th>\n",
       "      <td>332</td>\n",
       "      <td>1</td>\n",
       "    </tr>\n",
       "    <tr>\n",
       "      <th>12352</th>\n",
       "      <td>58</td>\n",
       "      <td>5</td>\n",
       "    </tr>\n",
       "    <tr>\n",
       "      <th>12353</th>\n",
       "      <td>226</td>\n",
       "      <td>1</td>\n",
       "    </tr>\n",
       "    <tr>\n",
       "      <th>12354</th>\n",
       "      <td>254</td>\n",
       "      <td>1</td>\n",
       "    </tr>\n",
       "    <tr>\n",
       "      <th>12355</th>\n",
       "      <td>236</td>\n",
       "      <td>1</td>\n",
       "    </tr>\n",
       "    <tr>\n",
       "      <th>12356</th>\n",
       "      <td>44</td>\n",
       "      <td>3</td>\n",
       "    </tr>\n",
       "  </tbody>\n",
       "</table>\n",
       "</div>"
      ],
      "text/plain": [
       "            Recency  Frequency\n",
       "CustomerID                    \n",
       "12346           347          0\n",
       "12347            24          7\n",
       "12348            97          4\n",
       "12349            40          1\n",
       "12350           332          1\n",
       "12352            58          5\n",
       "12353           226          1\n",
       "12354           254          1\n",
       "12355           236          1\n",
       "12356            44          3"
      ]
     },
     "execution_count": 23,
     "metadata": {},
     "output_type": "execute_result"
    }
   ],
   "source": [
    "def build_F(group_data):\n",
    "    group_data['InvoiceNo'] = group_data['InvoiceNo'].astype(str)\n",
    "    # 记录是否为退单记录\n",
    "    is_refund = group_data['InvoiceNo'].str.startswith('C')\n",
    "    # 获取所有的退单记录与正常记录\n",
    "    normal = group_data[~is_refund]\n",
    "    refund = group_data[is_refund]\n",
    "    # 将正常订单数量 - 退单数量视为用户购买数量\n",
    "    num = normal['InvoiceNo'].unique().shape[0] - refund['InvoiceNo'].unique().shape[0]\n",
    "    # 如果订单数量小于0，则视为0\n",
    "    return num if num > 0 else 0\n",
    "\n",
    "rfm['Frequency'] = g.apply(build_F)\n",
    "rfm.head(10)"
   ]
  },
  {
   "cell_type": "markdown",
   "id": "6469d98e",
   "metadata": {},
   "source": [
    "### 构建M值"
   ]
  },
  {
   "cell_type": "code",
   "execution_count": 24,
   "id": "af9b75dd",
   "metadata": {},
   "outputs": [
    {
     "data": {
      "text/html": [
       "<div>\n",
       "<style scoped>\n",
       "    .dataframe tbody tr th:only-of-type {\n",
       "        vertical-align: middle;\n",
       "    }\n",
       "\n",
       "    .dataframe tbody tr th {\n",
       "        vertical-align: top;\n",
       "    }\n",
       "\n",
       "    .dataframe thead th {\n",
       "        text-align: right;\n",
       "    }\n",
       "</style>\n",
       "<table border=\"1\" class=\"dataframe\">\n",
       "  <thead>\n",
       "    <tr style=\"text-align: right;\">\n",
       "      <th></th>\n",
       "      <th>Recency</th>\n",
       "      <th>Frequency</th>\n",
       "      <th>Monetory</th>\n",
       "    </tr>\n",
       "    <tr>\n",
       "      <th>CustomerID</th>\n",
       "      <th></th>\n",
       "      <th></th>\n",
       "      <th></th>\n",
       "    </tr>\n",
       "  </thead>\n",
       "  <tbody>\n",
       "    <tr>\n",
       "      <th>12346</th>\n",
       "      <td>347</td>\n",
       "      <td>0</td>\n",
       "      <td>0.00</td>\n",
       "    </tr>\n",
       "    <tr>\n",
       "      <th>12347</th>\n",
       "      <td>24</td>\n",
       "      <td>7</td>\n",
       "      <td>4310.00</td>\n",
       "    </tr>\n",
       "    <tr>\n",
       "      <th>12348</th>\n",
       "      <td>97</td>\n",
       "      <td>4</td>\n",
       "      <td>1797.24</td>\n",
       "    </tr>\n",
       "    <tr>\n",
       "      <th>12349</th>\n",
       "      <td>40</td>\n",
       "      <td>1</td>\n",
       "      <td>1757.55</td>\n",
       "    </tr>\n",
       "    <tr>\n",
       "      <th>12350</th>\n",
       "      <td>332</td>\n",
       "      <td>1</td>\n",
       "      <td>334.40</td>\n",
       "    </tr>\n",
       "    <tr>\n",
       "      <th>12352</th>\n",
       "      <td>58</td>\n",
       "      <td>5</td>\n",
       "      <td>1545.41</td>\n",
       "    </tr>\n",
       "    <tr>\n",
       "      <th>12353</th>\n",
       "      <td>226</td>\n",
       "      <td>1</td>\n",
       "      <td>89.00</td>\n",
       "    </tr>\n",
       "    <tr>\n",
       "      <th>12354</th>\n",
       "      <td>254</td>\n",
       "      <td>1</td>\n",
       "      <td>1079.40</td>\n",
       "    </tr>\n",
       "    <tr>\n",
       "      <th>12355</th>\n",
       "      <td>236</td>\n",
       "      <td>1</td>\n",
       "      <td>459.40</td>\n",
       "    </tr>\n",
       "    <tr>\n",
       "      <th>12356</th>\n",
       "      <td>44</td>\n",
       "      <td>3</td>\n",
       "      <td>2811.43</td>\n",
       "    </tr>\n",
       "  </tbody>\n",
       "</table>\n",
       "</div>"
      ],
      "text/plain": [
       "            Recency  Frequency  Monetory\n",
       "CustomerID                              \n",
       "12346           347          0      0.00\n",
       "12347            24          7   4310.00\n",
       "12348            97          4   1797.24\n",
       "12349            40          1   1757.55\n",
       "12350           332          1    334.40\n",
       "12352            58          5   1545.41\n",
       "12353           226          1     89.00\n",
       "12354           254          1   1079.40\n",
       "12355           236          1    459.40\n",
       "12356            44          3   2811.43"
      ]
     },
     "execution_count": 24,
     "metadata": {},
     "output_type": "execute_result"
    }
   ],
   "source": [
    "def build_M(group_data):\n",
    "    money = group_data['monetory'].sum()\n",
    "    # 如果贡献金额小于0，则视为0\n",
    "    return money if money > 0 else 0\n",
    "\n",
    "rfm['Monetory'] = g.apply(build_M)\n",
    "rfm.head(10)"
   ]
  },
  {
   "cell_type": "markdown",
   "id": "217814ff",
   "metadata": {},
   "source": [
    "### 客户等级评估"
   ]
  },
  {
   "cell_type": "raw",
   "id": "15d978d1",
   "metadata": {},
   "source": [
    "构建好RFM三个维度的取值后，我们就可以根据各个维度的取值大小，来对客户进行评估"
   ]
  },
  {
   "cell_type": "code",
   "execution_count": 25,
   "id": "508b6071",
   "metadata": {},
   "outputs": [
    {
     "name": "stderr",
     "output_type": "stream",
     "text": [
      "F:\\anaconda\\lib\\site-packages\\seaborn\\_decorators.py:36: FutureWarning: Pass the following variable as a keyword arg: x. From version 0.12, the only valid positional argument will be `data`, and passing other arguments without an explicit keyword will result in an error or misinterpretation.\n",
      "  warnings.warn(\n"
     ]
    },
    {
     "data": {
      "image/png": "[encoded data removed]",
      "text/plain": [
       "<Figure size 432x288 with 1 Axes>"
      ]
     },
     "metadata": {},
     "output_type": "display_data"
    }
   ],
   "source": [
    "# 为了评估方便，R指越小价值越大，这里将R值取反处理\n",
    "rfm['Recency'] *= -1\n",
    "R_bar = rfm['Recency'].mean()\n",
    "F_bar = rfm['Frequency'].mean()\n",
    "M_bar = rfm['Monetory'].mean()\n",
    "\n",
    "def level_evaluate(c):\n",
    "    s = '重要' if c['Monetory'] >= M_bar else '一般'\n",
    "    if c['Recency'] >= R_bar and c['Frequency'] >= F_bar:\n",
    "        s += '价值'\n",
    "    elif c['Recency'] < R_bar and c['Frequency'] >= F_bar:\n",
    "        s += '保持'\n",
    "    elif c['Recency'] >= R_bar and c['Frequency'] < F_bar:\n",
    "        s += '发展'\n",
    "    elif c['Recency'] < R_bar and c['Frequency'] < F_bar:\n",
    "        s += '挽留'\n",
    "    else:\n",
    "        print(c)\n",
    "    s += '客户'\n",
    "    return s\n",
    "\n",
    "rfm['type'] = rfm.apply(level_evaluate, axis=1)\n",
    "v = rfm['type'].value_counts()\n",
    "plt.xticks(rotation=45)\n",
    "ax = sns.countplot(rfm['type'],order=v.index)\n",
    "# 在图像上绘制数值\n",
    "for x, y in enumerate(v):\n",
    "    text = ax.text(x, y, y)\n",
    "    # 文本数值居中对齐\n",
    "    text.set_ha('center')"
   ]
  },
  {
   "cell_type": "markdown",
   "id": "fe30826b",
   "metadata": {},
   "source": [
    "## RFM扩展说明"
   ]
  },
  {
   "cell_type": "raw",
   "id": "3dbbf18d",
   "metadata": {},
   "source": [
    "实际上，RFM模型只是提供了R,F与M三个维度，而至于每个维度上的划分准则，并没有绝对的标准。例如，以下的计算方式都是可行的方案：\n",
    "\n",
    "在每个维度上以均值来划分\n",
    "在每个维度上以分位数来划分\n",
    "    中位数是分位数一种特例\n",
    "每个维度划分为2个区间，也可以划分为多个区间\n",
    "对区间可以先进行打分（分箱处理），然后再划分\n",
    "R,F,M还可以考虑带有权重\n",
    "\n",
    "不过，通过RFM模型，我们会将用户划分为很多类别，并且，划分的方式可能会具有很多的主观性，那么，如何能够减少客户类别，并具有一定的客观性呢？我们可以通过聚类算法实现"
   ]
  },
  {
   "cell_type": "markdown",
   "id": "d172e704",
   "metadata": {},
   "source": [
    "## 聚类"
   ]
  },
  {
   "cell_type": "raw",
   "id": "7e74ebea",
   "metadata": {},
   "source": [
    "聚类的应用场景非常广泛，常见的应用场景有：\n",
    "\n",
    "客户群体的划分：\n",
    "    根据不同的客户群体，制定不同的营销策略\n",
    "社交网络的分析：\n",
    "    识别在同一个圈子的朋友，判断哪些人可能互相认识\n",
    "文档处理：\n",
    "    对相似内容的文档进行划分\n",
    "异常值检测：\n",
    "    用来识别可能的离群点"
   ]
  },
  {
   "cell_type": "markdown",
   "id": "a2d446e8",
   "metadata": {},
   "source": [
    "## 程序实现"
   ]
  },
  {
   "cell_type": "markdown",
   "id": "08f755ee",
   "metadata": {},
   "source": [
    "### 数据标准化"
   ]
  },
  {
   "cell_type": "raw",
   "id": "91999de6",
   "metadata": {},
   "source": [
    "在实现聚类之前，我们需要对数据进行标准化处理，以消除不同量纲对距离计算的影响"
   ]
  },
  {
   "cell_type": "code",
   "execution_count": 26,
   "id": "572e827c",
   "metadata": {},
   "outputs": [
    {
     "data": {
      "text/html": [
       "<div>\n",
       "<style scoped>\n",
       "    .dataframe tbody tr th:only-of-type {\n",
       "        vertical-align: middle;\n",
       "    }\n",
       "\n",
       "    .dataframe tbody tr th {\n",
       "        vertical-align: top;\n",
       "    }\n",
       "\n",
       "    .dataframe thead th {\n",
       "        text-align: right;\n",
       "    }\n",
       "</style>\n",
       "<table border=\"1\" class=\"dataframe\">\n",
       "  <thead>\n",
       "    <tr style=\"text-align: right;\">\n",
       "      <th></th>\n",
       "      <th>Recency</th>\n",
       "      <th>Frequency</th>\n",
       "      <th>Monetory</th>\n",
       "    </tr>\n",
       "    <tr>\n",
       "      <th>CustomerID</th>\n",
       "      <th></th>\n",
       "      <th></th>\n",
       "      <th></th>\n",
       "    </tr>\n",
       "  </thead>\n",
       "  <tbody>\n",
       "    <tr>\n",
       "      <th>12346</th>\n",
       "      <td>-347</td>\n",
       "      <td>0</td>\n",
       "      <td>0.00</td>\n",
       "    </tr>\n",
       "    <tr>\n",
       "      <th>12347</th>\n",
       "      <td>-24</td>\n",
       "      <td>7</td>\n",
       "      <td>4310.00</td>\n",
       "    </tr>\n",
       "    <tr>\n",
       "      <th>12348</th>\n",
       "      <td>-97</td>\n",
       "      <td>4</td>\n",
       "      <td>1797.24</td>\n",
       "    </tr>\n",
       "    <tr>\n",
       "      <th>12349</th>\n",
       "      <td>-40</td>\n",
       "      <td>1</td>\n",
       "      <td>1757.55</td>\n",
       "    </tr>\n",
       "    <tr>\n",
       "      <th>12350</th>\n",
       "      <td>-332</td>\n",
       "      <td>1</td>\n",
       "      <td>334.40</td>\n",
       "    </tr>\n",
       "  </tbody>\n",
       "</table>\n",
       "</div>"
      ],
      "text/plain": [
       "            Recency  Frequency  Monetory\n",
       "CustomerID                              \n",
       "12346          -347          0      0.00\n",
       "12347           -24          7   4310.00\n",
       "12348           -97          4   1797.24\n",
       "12349           -40          1   1757.55\n",
       "12350          -332          1    334.40"
      ]
     },
     "execution_count": 26,
     "metadata": {},
     "output_type": "execute_result"
    }
   ],
   "source": [
    "# 获取Recency,Frequency与Monetory数据\n",
    "X = rfm.iloc[:,:-1]\n",
    "X.head()"
   ]
  },
  {
   "cell_type": "code",
   "execution_count": 28,
   "id": "6ed0b42a",
   "metadata": {},
   "outputs": [
    {
     "data": {
      "text/html": [
       "<div>\n",
       "<style scoped>\n",
       "    .dataframe tbody tr th:only-of-type {\n",
       "        vertical-align: middle;\n",
       "    }\n",
       "\n",
       "    .dataframe tbody tr th {\n",
       "        vertical-align: top;\n",
       "    }\n",
       "\n",
       "    .dataframe thead th {\n",
       "        text-align: right;\n",
       "    }\n",
       "</style>\n",
       "<table border=\"1\" class=\"dataframe\">\n",
       "  <thead>\n",
       "    <tr style=\"text-align: right;\">\n",
       "      <th></th>\n",
       "      <th>Recency</th>\n",
       "      <th>Frequency</th>\n",
       "      <th>Monetory</th>\n",
       "    </tr>\n",
       "    <tr>\n",
       "      <th>CustomerID</th>\n",
       "      <th></th>\n",
       "      <th></th>\n",
       "      <th></th>\n",
       "    </tr>\n",
       "  </thead>\n",
       "  <tbody>\n",
       "    <tr>\n",
       "      <th>12346</th>\n",
       "      <td>-2.251129</td>\n",
       "      <td>-0.542685</td>\n",
       "      <td>-0.231399</td>\n",
       "    </tr>\n",
       "    <tr>\n",
       "      <th>12347</th>\n",
       "      <td>0.898765</td>\n",
       "      <td>0.566089</td>\n",
       "      <td>0.293102</td>\n",
       "    </tr>\n",
       "    <tr>\n",
       "      <th>12348</th>\n",
       "      <td>0.186869</td>\n",
       "      <td>0.090900</td>\n",
       "      <td>-0.012686</td>\n",
       "    </tr>\n",
       "    <tr>\n",
       "      <th>12349</th>\n",
       "      <td>0.742733</td>\n",
       "      <td>-0.384288</td>\n",
       "      <td>-0.017516</td>\n",
       "    </tr>\n",
       "    <tr>\n",
       "      <th>12350</th>\n",
       "      <td>-2.104849</td>\n",
       "      <td>-0.384288</td>\n",
       "      <td>-0.190705</td>\n",
       "    </tr>\n",
       "  </tbody>\n",
       "</table>\n",
       "</div>"
      ],
      "text/plain": [
       "             Recency  Frequency  Monetory\n",
       "CustomerID                               \n",
       "12346      -2.251129  -0.542685 -0.231399\n",
       "12347       0.898765   0.566089  0.293102\n",
       "12348       0.186869   0.090900 -0.012686\n",
       "12349       0.742733  -0.384288 -0.017516\n",
       "12350      -2.104849  -0.384288 -0.190705"
      ]
     },
     "execution_count": 28,
     "metadata": {},
     "output_type": "execute_result"
    }
   ],
   "source": [
    "from sklearn.preprocessing import StandardScaler\n",
    "\n",
    "s = StandardScaler()\n",
    "X_scale = s.fit_transform(X)\n",
    "X_scale = pd.DataFrame(X_scale, columns=X.columns, index = X.index)\n",
    "X_scale.head()"
   ]
  },
  {
   "cell_type": "markdown",
   "id": "0f7d1997",
   "metadata": {},
   "source": [
    "### 确定簇数量"
   ]
  },
  {
   "cell_type": "raw",
   "id": "577207bb",
   "metadata": {},
   "source": [
    "我们可以根据最小的SSE原则，来选择最佳的K值，即客户类别的数量"
   ]
  },
  {
   "cell_type": "code",
   "execution_count": 29,
   "id": "6c570e2d",
   "metadata": {},
   "outputs": [
    {
     "name": "stderr",
     "output_type": "stream",
     "text": [
      "F:\\anaconda\\lib\\site-packages\\seaborn\\_decorators.py:36: FutureWarning: Pass the following variables as keyword args: x, y. From version 0.12, the only valid positional argument will be `data`, and passing other arguments without an explicit keyword will result in an error or misinterpretation.\n",
      "  warnings.warn(\n"
     ]
    },
    {
     "data": {
      "text/plain": [
       "<AxesSubplot:>"
      ]
     },
     "execution_count": 29,
     "metadata": {},
     "output_type": "execute_result"
    },
    {
     "data": {
      "image/png": "[encoded data removed]",
      "text/plain": [
       "<Figure size 432x288 with 1 Axes>"
      ]
     },
     "metadata": {},
     "output_type": "display_data"
    }
   ],
   "source": [
    "from sklearn.cluster import KMeans\n",
    "\n",
    "# 定义候选的K值\n",
    "scope = range(1, 10)\n",
    "# 定义SSE列表，用来存放不同K值下的SSE\n",
    "sse = []\n",
    "for k in scope:\n",
    "    kmeans = KMeans(n_clusters=k)\n",
    "    kmeans.fit(X_scale)\n",
    "    sse.append(kmeans.inertia_)\n",
    "plt.xticks(scope)\n",
    "sns.lineplot(scope, sse, marker='o')"
   ]
  },
  {
   "cell_type": "markdown",
   "id": "c31f8ac0",
   "metadata": {},
   "source": [
    "### 执行聚类"
   ]
  },
  {
   "cell_type": "raw",
   "id": "378ec631",
   "metadata": {},
   "source": [
    "根据上图，当K为3或4时，效果最好"
   ]
  },
  {
   "cell_type": "code",
   "execution_count": 32,
   "id": "5f684645",
   "metadata": {},
   "outputs": [
    {
     "name": "stdout",
     "output_type": "stream",
     "text": [
      "质心： [[ 5.18762088e-01  6.40120503e-02 -4.53102594e-03]\n",
      " [-1.52486371e+00 -3.45294122e-01 -1.74431672e-01]\n",
      " [ 8.62323043e-01  9.31122712e+00  1.09906829e+01]]\n",
      "标签： [1 0 0 ... 0 0 0]\n",
      "SSE： 5519.688812645493\n",
      "迭代次数： 7\n",
      "分值: -5519.688812645493\n"
     ]
    }
   ],
   "source": [
    "kmeans = KMeans(n_clusters=3)\n",
    "kmeans.fit(X_scale)\n",
    "# 获取聚类后的质心\n",
    "print('质心：',kmeans.cluster_centers_)\n",
    "# 获取每个样本所属的簇。标签的数值对应所属簇的索引\n",
    "print('标签：',kmeans.labels_)\n",
    "# 获取SSE（簇惯性）\n",
    "print('SSE：', kmeans.inertia_)\n",
    "# 获取迭代次数\n",
    "print('迭代次数：', kmeans.n_iter_)\n",
    "# 聚类的分值，分值越大，效果越好。直接取SSE的相反数\n",
    "print('分值:', kmeans.score(X_scale))"
   ]
  },
  {
   "cell_type": "markdown",
   "id": "5fd19973",
   "metadata": {},
   "source": [
    "### 数量分析"
   ]
  },
  {
   "cell_type": "raw",
   "id": "d85e3df9",
   "metadata": {},
   "source": [
    "统计一下每个类别群体的数量"
   ]
  },
  {
   "cell_type": "code",
   "execution_count": 36,
   "id": "2cd2ed37",
   "metadata": {},
   "outputs": [
    {
     "name": "stderr",
     "output_type": "stream",
     "text": [
      "F:\\anaconda\\lib\\site-packages\\seaborn\\_decorators.py:36: FutureWarning: Pass the following variable as a keyword arg: x. From version 0.12, the only valid positional argument will be `data`, and passing other arguments without an explicit keyword will result in an error or misinterpretation.\n",
      "  warnings.warn(\n"
     ]
    },
    {
     "data": {
      "image/png": "[encoded data removed]",
      "text/plain": [
       "<Figure size 432x288 with 1 Axes>"
      ]
     },
     "metadata": {},
     "output_type": "display_data"
    }
   ],
   "source": [
    "v= pd.Series(kmeans.labels_).value_counts()\n",
    "ax = sns.countplot(kmeans.labels_, order=v.index)\n",
    "# 在图像上绘制数值\n",
    "for x, y in enumerate(v):\n",
    "    text = ax.text(x, y, y)\n",
    "    # 文本数值居中对齐\n",
    "    text.set_ha('center')"
   ]
  },
  {
   "cell_type": "markdown",
   "id": "d62d5bbb",
   "metadata": {},
   "source": [
    "### 客户群体分析"
   ]
  },
  {
   "cell_type": "raw",
   "id": "6438ce31",
   "metadata": {},
   "source": [
    "对聚类算法来说，只能帮我们划分出客户的群体，但是，对于具体的某个群体，属于什么样类型的客户，需要我们自行分析"
   ]
  },
  {
   "cell_type": "code",
   "execution_count": 41,
   "id": "f2dc727e",
   "metadata": {},
   "outputs": [
    {
     "data": {
      "image/png": "[encoded data removed]",
      "text/plain": [
       "<Figure size 1296x1080 with 9 Axes>"
      ]
     },
     "metadata": {},
     "output_type": "display_data"
    }
   ],
   "source": [
    "fig, ax = plt.subplots(3, 3)\n",
    "fig.set_size_inches(18, 15)\n",
    "for i in range(3):\n",
    "    # 获取第i个客户群的数据\n",
    "    d = X[kmeans.labels_==i]\n",
    "    sns.boxplot(y='Recency', data = d, ax = ax[i][0])\n",
    "    sns.boxplot(y='Frequency', data = d, ax = ax[i][1])\n",
    "    sns.boxplot(y='Monetory', data = d, ax = ax[i][2])"
   ]
  },
  {
   "cell_type": "raw",
   "id": "0143a735",
   "metadata": {},
   "source": [
    "对于R，F,M价值都较低的客户群体，属于一般挽留用户，该客户群体可以不用耗费过多的投入，在促销活动发送通知，给予一定的优惠券激活。\n",
    "\n",
    "对于R价值较高，F与M较低的客户群体，属于最近消费的用户（很可能是新客户），该客户群体中可能包含很多潜能用户，需要频繁发送活动消息，增加消费频率与消费金额\n",
    "\n",
    "对于R，F与M都较高的客户群体，属于重要价值客户，需要重点关注，给予特别VIP服务"
   ]
  },
  {
   "cell_type": "markdown",
   "id": "adeffe80",
   "metadata": {},
   "source": [
    "### 绘制客户群体散点图"
   ]
  },
  {
   "cell_type": "code",
   "execution_count": 42,
   "id": "e44f431b",
   "metadata": {},
   "outputs": [
    {
     "name": "stderr",
     "output_type": "stream",
     "text": [
      "C:\\Users\\zx\\AppData\\Local\\Temp\\ipykernel_8432\\3313963130.py:5: MatplotlibDeprecationWarning: Axes3D(fig) adding itself to the figure is deprecated since 3.4. Pass the keyword argument auto_add_to_figure=False and use fig.add_axes(ax) to suppress this warning. The default value of auto_add_to_figure will change to False in mpl3.5 and True values will no longer work in 3.6.  This is consistent with other Axes classes.\n",
      "  ax = Axes3D(fig)\n"
     ]
    },
    {
     "data": {
      "text/plain": [
       "<matplotlib.legend.Legend at 0x1978fa71460>"
      ]
     },
     "execution_count": 42,
     "metadata": {},
     "output_type": "execute_result"
    },
    {
     "data": {
      "image/png": "[encoded data removed]",
      "text/plain": [
       "<Figure size 864x576 with 1 Axes>"
      ]
     },
     "metadata": {},
     "output_type": "display_data"
    }
   ],
   "source": [
    "from mpl_toolkits.mplot3d import Axes3D\n",
    "\n",
    "fig = plt.figure()\n",
    "fig.set_size_inches(12, 8)\n",
    "ax = Axes3D(fig)\n",
    "color = ['r','g','b']\n",
    "for i in range(3):\n",
    "    d = X[kmeans.labels_ == i]\n",
    "    ax.scatter(d['Recency'], d['Frequency'], d['Monetory'], color = color[i], label = f'客户群{i}')\n",
    "ax.set_zlabel('Monetory')\n",
    "ax.set_ylabel('Frequency')\n",
    "ax.set_xlabel('Recency')\n",
    "plt.legend()"
   ]
  },
  {
   "cell_type": "code",
   "execution_count": null,
   "id": "f2f08d9b",
   "metadata": {},
   "outputs": [],
   "source": []
  }
 ],
 "metadata": {
  "kernelspec": {
   "display_name": "Python [conda env:root] *",
   "language": "python",
   "name": "conda-root-py"
  },
  "language_info": {
   "codemirror_mode": {
    "name": "ipython",
    "version": 3
   },
   "file_extension": ".py",
   "mimetype": "text/x-python",
   "name": "python",
   "nbconvert_exporter": "python",
   "pygments_lexer": "ipython3",
   "version": "3.8.13"
  }
 },
 "nbformat": 4,
 "nbformat_minor": 5
}
